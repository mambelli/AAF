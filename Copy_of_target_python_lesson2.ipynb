{
  "nbformat": 4,
  "nbformat_minor": 0,
  "metadata": {
    "language_info": {
      "name": "python",
      "pygments_lexer": "ipython3"
    },
    "colab": {
      "name": "Copy of target_python_lesson2.ipynb",
      "provenance": [],
      "toc_visible": true
    }
  },
  "cells": [
    {
      "cell_type": "markdown",
      "metadata": {
        "id": "rn4_sjbTbD_5"
      },
      "source": [
        "\n",
        "# Target Python Lesson - Part 2\n",
        "\n",
        "---\n",
        "# 1: Tuples & Dictionary\n",
        "\n",
        "Like lists, also tuples and dictionaries allow to store multiple values, but they serve different purposes.\n",
        "\n",
        "### 1.1: Tuples\n",
        "\n",
        "The only major difference between a Tuple and a List is that a tuple is immutable, you **cannot** edit/remove/add values to it. Once you create a tuple, that's it. Tuples were created for speed. If you're dealing with A LOT of data or SINGLE USE data, tuples are great. They are being used in some of the projects that we'll show you. \n",
        "\n",
        "Defining tuples is very similar to defining a list. Use parenthesizes `()` instead of brackets `[]`. There is no difference for accessing its elements, you use brackets `[]` like for lists."
      ]
    },
    {
      "cell_type": "code",
      "metadata": {
        "id": "WEXIc2PCbD_8"
      },
      "source": [
        "\"\"\"Remember that just like lists, tuples are a variable that hold\n",
        "lots of other variables.\n",
        "aListExample = ['do', 'you, 'remember?']\n",
        "\n",
        "btw, this is a block comment. It's exactly like the\n",
        "# comment\n",
        " but you can continue this comment on multiple lines and\n",
        "end it by typing:\"\"\"\n",
        "\n",
        "Tuple_example = ('This', 'is', 'a', 'tuple')\n",
        "\n",
        "Tuple_example"
      ],
      "execution_count": null,
      "outputs": []
    },
    {
      "cell_type": "code",
      "metadata": {
        "id": "F1Z1g9E0bD_-"
      },
      "source": [
        "Tuple_example[3]"
      ],
      "execution_count": null,
      "outputs": []
    },
    {
      "cell_type": "markdown",
      "metadata": {
        "id": "0FcPRbutbD_-"
      },
      "source": [
        "### 1.2: Dictionary\n",
        "\n",
        "Dictionaries (aka hash tables) are a collection of elements like lists and tuples, but they store key-value pairs. You use unique keys to set, change or access the corresponding values, one at the time. Keys can be strings, numbers, almost anything (anithing that is immutable and has a hash function). It is very quick to access/modify a single element, slower if you need to sort them or access multiple elements. Check it out below,"
      ]
    },
    {
      "cell_type": "code",
      "metadata": {
        "id": "s4onRfZxbD__"
      },
      "source": [
        "aDictionary = {'theKey': 'theValueoftheKey', 'name': 'John', 'age': 24}\n",
        "# They are created with squiggly brackets {}\n",
        "\n",
        "aDictionary['name']"
      ],
      "execution_count": null,
      "outputs": []
    },
    {
      "cell_type": "code",
      "metadata": {
        "id": "sc9cOrAebD__"
      },
      "source": [
        "aDictionary['age']"
      ],
      "execution_count": null,
      "outputs": []
    },
    {
      "cell_type": "code",
      "metadata": {
        "id": "ctesSE7BbD__"
      },
      "source": [
        "aDictionary['surname'] = 'Doe'  # You can add entries to a Dictionary\n",
        "aDictionary['surname']"
      ],
      "execution_count": null,
      "outputs": []
    },
    {
      "cell_type": "markdown",
      "metadata": {
        "id": "DCDPqHKUbEAA"
      },
      "source": [
        "# 2. Modules and Packages\n",
        "\n",
        "Remember importing the math standard library from last week? You can import all kind of modules and also define your own. Let's say that you have a very complex application written in Python. Writing all of your code in one script would not be efficient. \n",
        "\n",
        "\n",
        "In fact, say that parts of your application will use certain functions and other parts will not. To make your application more efficient, you can separate those functions in other files and then import them whenever you need them.\n",
        "\n",
        "A collection of Python modules (e.g. the Python files in the same directory) is called package.\n",
        "A package must include also `__init__.py`, a special file, empty for now, indicating that that is a Python package.\n",
        "\n",
        "We're going now to create two files. One file, the module, will contain a function. The other file, the script, will import the first one and execute the function.\n",
        "\n",
        "```\n",
        "def printWithBorders(text_to_print):\n",
        "    numChar = len(text_to_print) \n",
        "    border = numChar*\"=\" \n",
        "    # remember, \\n creates a newline\n",
        "    print(border + \"\\n\" + text_to_print + \"\\n\" + border) \n",
        "```\n"
      ]
    },
    {
      "cell_type": "markdown",
      "metadata": {
        "id": "S-YBZSETbEAB"
      },
      "source": [
        "Depending on the Jupyter Notebooks provider you are using, there are 3 options to do this:\n",
        "1. Create a new notebook and import its cells using importnb\n",
        "2. Create a python file in a subfolder using the file browser and import it \n",
        "3. Create a python file in a subfolder using shell commands and import it\n",
        "\n",
        "Some providers like Azure Notebooks allow all notebooks in a project to share the same runtime. There the first is more direct since you can do almost all from the notebook, but relies on importnb that may be broken. \n",
        "Method 2 and 3 are more standard Python but require a file browser in the notebook environment, like the one in Google Colaboratory, or at least the ability to run shell commands and store files. \n",
        "Try 2.1 (using the Notebook in the same runtime) first if you are using Azure Notebooks or another provider that allows that. Try 2.2 (file browser) if you are using Google Colaboratory or another service that allows that. Fall back to 2.3 if the other two are not working.\n",
        "\n",
        "## 2.1 Importing from a notebook file\n",
        "\n",
        "First, let's create a new notebook,\n",
        "\n",
        "![](https://i.imgur.com/VJJZB9i.png)\n",
        "\n",
        "Copy or type the function into it.\n",
        "Then rename it to `function`,\n",
        "\n",
        "![](https://i.imgur.com/GOmYaMq.png)\n",
        "\n",
        "![](https://i.imgur.com/zjgq1mp.png)\n",
        "\n",
        "![](https://i.imgur.com/sFMY402.png)"
      ]
    },
    {
      "cell_type": "markdown",
      "metadata": {
        "id": "jaOUZ4ZfbEAC"
      },
      "source": [
        "Okay, once that is done, run the command below (don't worry too much about this, again this allows us to treat Python Notebooks as actual Python scripts). Give that command a minute, once you see a number appear inside of `In []`, then you can move on."
      ]
    },
    {
      "cell_type": "code",
      "metadata": {
        "id": "VuP-tcS3bEAC"
      },
      "source": [
        "!pip install importnb"
      ],
      "execution_count": null,
      "outputs": []
    },
    {
      "cell_type": "markdown",
      "metadata": {
        "id": "nImyzrshbEAD"
      },
      "source": [
        "And if you renamed the file correctly, have the correct function name, and imported that function, the below block of code should execute without any issue."
      ]
    },
    {
      "cell_type": "code",
      "metadata": {
        "id": "eJGkOUtBbEAD"
      },
      "source": [
        "# Python Notebook Import\n",
        "from importnb import Notebook\n",
        "# Sometimes you may need: with __import__('importnb').Notebook():\n",
        "with Notebook(): \n",
        "    #with __import__('importnb').Notebook():\n",
        "    import function\n",
        "\n",
        "# The import is done only once (the version of the Notebook the first \n",
        "# time it was executed)\n",
        "# This is to get the latest changes that you may make to the Notebook\n",
        "from importlib import reload \n",
        "with Notebook():\n",
        "    reload(function)\n",
        "\n",
        "# Note: If you were using .py files (see also the next section), \n",
        "# then you would just use:\n",
        "# import function\n",
        "# from importlib import reload\n",
        "# reload(function)\n",
        "        \n",
        "function.printWithBorders('Hello World')"
      ],
      "execution_count": null,
      "outputs": []
    },
    {
      "cell_type": "code",
      "metadata": {
        "id": "QC0nPIsSbEAE"
      },
      "source": [
        "#import function2\n",
        "#function2.printWithBorders('Hello World')\n",
        "!echo $PYTHONPATH\n",
        "!pwd\n",
        "\n",
        "pp = open('pkgfolder/function.py', 'r').readlines()\n",
        "len(pp)\n",
        "print(''.join(pp))\n",
        "\n",
        "print(__name__)\n",
        "print(__package__)\n",
        "print(__spec__)\n",
        "\n",
        "!ls\n",
        "print(__package__)\n",
        "if __package__ is None:\n",
        "    __package__ = \".\"\n",
        "from . import function\n",
        "\n",
        "printWithBorders(\"hello world\")"
      ],
      "execution_count": null,
      "outputs": []
    },
    {
      "cell_type": "markdown",
      "metadata": {
        "id": "FyWPUBFMb2Vv"
      },
      "source": [
        "## 2.2 Creating a Python file via file browser and importing it\n",
        "\n",
        "The Python file, module, must be created in a subdirectory to make it part of a package.\n",
        "Python 3 is more strict than Python 2 and relative imports outside a package are not possible.\n",
        "\n",
        "In the file browser on the le you can create folders and files and open them in new panels to edit the content.\n",
        "\n",
        "Using the panel on the left you can see your \"session storage\", the files of your notebook runtime, by clicking on the folder icon.\n",
        "Clicking on the folder with 2 dots you can go to the upper level.\n",
        "Then click on the 3 dots right of the \"content\" folder and select \"New Folder\". \n",
        "Call the folder `mypkg`. Now click on the dots right of mypkg and create a new file, `__init__.py`, and leave it empty. Create also a second file, `function.py`, double click on it to edit the content, and type the following in it:\n",
        "```\n",
        "def printWithBorders(text_to_print):\n",
        "    numChar = len(text_to_print)\n",
        "    border = numChar*'='\n",
        "    print(border + \"\\n\" + text_to_print + \"\\n\" + border)\n",
        "``` "
      ]
    },
    {
      "cell_type": "markdown",
      "metadata": {
        "id": "cMoCtGAKczqu"
      },
      "source": [
        "Also in Azure notebooks you can create files and edit them via the project view.\n",
        "Use the menu \"+\" to add the Folder, then to add a blank file into it (you will need to enter the file name).\n",
        "<img src=\"https://github.com/mambelli/target-python-lesson2/blob/master/images/azurenb_new.jpeg?raw=1\" alt=\"New folder and blank file\" style=\"width:200px;\">\n",
        "<img src=\"https://github.com/mambelli/target-python-lesson2/blob/master/images/azurenb_newfile.jpeg?raw=1\" alt=\"Rename the file\" width=\"400\">\n",
        "\n",
        "Then you can select (1) and edit (2) the file content:\n",
        "<img src=\"https://github.com/mambelli/target-python-lesson2/blob/master/images/azurenb_edit.jpeg?raw=1\" alt=\"Edit the file\" width=\"400\">\n"
      ]
    },
    {
      "cell_type": "markdown",
      "metadata": {
        "id": "NzXHZ47AdA4A"
      },
      "source": [
        "No matter wheter you used the file browser or the project view to create the package and module, now you can import and use the module.\n",
        "\n",
        "Finally you can cleanup by removing the `mypkg` folder."
      ]
    },
    {
      "cell_type": "code",
      "metadata": {
        "id": "Zy9pCbIfdRRH"
      },
      "source": [
        "# Since the interpreter is is caching the copntent of the folders \n",
        "# in its sys.path, it is necessary to invalidate the caches \n",
        "# if the file was created after starting the interpreter\n",
        " \n",
        "from importlib import invalidate_caches\n",
        "invalidate_caches()\n",
        "\n",
        "from mypkg import function\n",
        "function.printWithBorders(\"hello world\")"
      ],
      "execution_count": null,
      "outputs": []
    },
    {
      "cell_type": "code",
      "metadata": {
        "id": "rRxtRU_AdV-c"
      },
      "source": [
        "# After testing the module import\n",
        "# run this only if you'd like to cleanup the folder 'mypkg' with the \n",
        "# modules created at the beginning of the section\n",
        "!rm -r mypkg"
      ],
      "execution_count": null,
      "outputs": []
    },
    {
      "cell_type": "markdown",
      "metadata": {
        "id": "KfLmIbcobEAF"
      },
      "source": [
        "## 2.3 Creating a Python file via shell commands and importing it\n",
        "\n",
        "The Python file, module, must be created in a subdirectory to make it part of a package.\n",
        "Python 3 is more strict than Python 2 and relative imports outside a package are not possible.\n",
        "\n",
        "In the notebooks you can run shell code using the \"!\" (bang) prefix.\n",
        "Here the code to create the package and edit the file: \n",
        "- create the folder\n",
        "- create `__init__.py`\n",
        "- add the lines to `function.py`\n",
        "- list the content of the package\n"
      ]
    },
    {
      "cell_type": "code",
      "metadata": {
        "id": "BJiLB0WvbEAG"
      },
      "source": [
        "!mkdir -p mypkg\n",
        "\n",
        "!touch mypkg/__init__.py\n",
        "\n",
        "!echo \"def printWithBorders(text_to_print):\" > mypkg/function.py\n",
        "!echo \"    numChar = len(text_to_print)\" >> mypkg/function.py\n",
        "!echo \"    border = numChar*'='\" >> mypkg/function.py\n",
        "# Adding some '\\' below to escape the string in the echo command: \\n -> \\\\\\n\n",
        "# Depending on the notebook environment the extra escape may not be needed\n",
        "!echo \"    print(border + '\\\\\\n' + text_to_print + '\\\\\\n' + border)\" >> mypkg/function.py\n",
        "\n",
        "print(\"\\n### These are the files in the project\")\n",
        "!ls\n",
        "\n",
        "print(\"\\n### This is the content of mypkg\")\n",
        "!ls mypkg\n",
        "\n",
        "print(\"\\n### This is the content of function.py\")\n",
        "!cat mypkg/function.py"
      ],
      "execution_count": null,
      "outputs": []
    },
    {
      "cell_type": "markdown",
      "metadata": {
        "id": "VNiUcD8TbEAH"
      },
      "source": [
        "Similarly as before you can import and use the Python module, and finally cleanup by removing the `mypkg` folder."
      ]
    },
    {
      "cell_type": "code",
      "metadata": {
        "id": "hrb8dzsMbEAH"
      },
      "source": [
        "# Since the interpreter is is caching the copntent of the folders \n",
        "# in its sys.path, it is necessary to invalidate the caches \n",
        "# if the file was created after starting the interpreter\n",
        " \n",
        "from importlib import invalidate_caches\n",
        "invalidate_caches()\n",
        "\n",
        "from mypkg import function\n",
        "function.printWithBorders(\"hello world\")\n"
      ],
      "execution_count": null,
      "outputs": []
    },
    {
      "cell_type": "code",
      "metadata": {
        "id": "hNRuk0blbEAI"
      },
      "source": [
        "# After testing the module import\n",
        "# run this only if you'd like to cleanup the folder 'mypkg' with the \n",
        "# modules created at the beginning of the section\n",
        "!rm -r mypkg"
      ],
      "execution_count": null,
      "outputs": []
    },
    {
      "cell_type": "markdown",
      "metadata": {
        "id": "kRwFiJsRbEAI"
      },
      "source": [
        "So, what the Python interpreter is doing is looking in your directory where your script is and trying to find a python file called `function.py` (in this case a different extension but in practice it would be `.py`). It found it, so it executed what was within that file. Say, if it did not find it locally in the same folder as this script, it would then look where all of your standard libraries are (there is no standard library called `function`) and then error out.\n",
        "\n",
        "# 3. File I/O\n",
        "\n",
        "### 3.1 Opening basic files\n",
        "\n",
        "I/O means Input/Output. So, we are going to learn how to read and write files with Python. It's important to know that when Python interacts with a file like creating, reading, or writing a file, it puts a handle on that file. Think of this like a library hold. You can place a hold on a library book. When you do this, no one else can checkout that book except you. Well, in the file system, this is the same. Python's saying, \"I have a handle on this file, no one else make any changes to it or delete it\". This prevents two applications for making changes at the same time to the same file or deleting it.\n",
        "\n",
        "There are quite a few ways that Python can open a file, we'll look at a few.\n",
        "\n",
        "| Mode* | English\n",
        "| --- | :--- |\n",
        "| r | Read a file, nothing else |\n",
        "| r+ | Read a file, write to the **beginning** of the file|\n",
        "| w | Write to a file (create or completely overwrite the file) |\n",
        "| w+ | Read and Write to a file (if there's content, you can read it, and then completely overwrite it) |\n",
        "| a | Append to a file (write to the bottom of a file) |\n",
        "| a+ | Append & Read to a file (Read the contents, and then add more to it) |\n",
        "\n",
        "- There are more modes, but these are all the ones you should understand for now\n",
        "\n",
        "Here are a few examples:\n",
        "\n",
        "- Write to a file (create one)"
      ]
    },
    {
      "cell_type": "code",
      "metadata": {
        "id": "I-Kru_xMbEAJ"
      },
      "source": [
        "texthandle = open(\"MyFileName.txt\", \"w\") # Use open (even if the file doesn't currently exist)\n",
        "# We now have a handle on the file MyFileName.txt which can be found in your current directory where your script lives\n",
        "# Let's write something to it\n",
        "texthandle.write(\"This is at the top of the file\\nThis is at the bottom of the file\") # \\n means new line\n",
        "# Now, let's close the file (so we don't have a handle on it anymore)\n",
        "texthandle.close()"
      ],
      "execution_count": null,
      "outputs": []
    },
    {
      "cell_type": "markdown",
      "metadata": {
        "id": "RVv8s9CqbEAJ"
      },
      "source": [
        "- Now let's read a file"
      ]
    },
    {
      "cell_type": "code",
      "metadata": {
        "id": "vZnPT2pBbEAL"
      },
      "source": [
        "!ls\n",
        "\n",
        "theFile = open(\"MyFileName.txt\", 'r')\n",
        "# Got it open, now print out the contents\n",
        "print(\"The name of the file is: \" + theFile.name)\n",
        "print(theFile.read(5)) # Whatever is in the read parameter, that's how many bytes to read at a time\n",
        "# Note: You'll see that as you repeat the above command, it will keep going from the point it left off\n",
        "#       To reset this, tell Python to seek at byte 0 and then continue again\n",
        "theFile.seek(0)\n",
        "# Okay, reading every certain amounts of bytes can be annoying. If we know we're dealing with a SMALL text document, then we can tell Python to load the whole thing:\n",
        "print(theFile.read())\n",
        "theFile.close()"
      ],
      "execution_count": null,
      "outputs": []
    },
    {
      "cell_type": "code",
      "metadata": {
        "id": "CY4bT_UBbEAL"
      },
      "source": [
        "# This cell does exactly the same as above "
      ],
      "execution_count": null,
      "outputs": []
    },
    {
      "cell_type": "markdown",
      "metadata": {
        "id": "gDIiQ8KHbEAL"
      },
      "source": [
        "Okay, let's remove the file without even opening it. We can't delete a file with the `open()`, but there is standard library that can. It's called `os` and this is a module that let's you manipulate the operating system. Let's rename a file and then delete one without opening it using this module."
      ]
    },
    {
      "cell_type": "code",
      "metadata": {
        "id": "2V6DskScbEAM"
      },
      "source": [
        "import os\n",
        "\n",
        "os.rename(\"MyFileName.txt\", \"MyNewFileName.txt\") # 1st Argument, the original file name, 2nd arg, the new file name\n",
        "input(\"do you see the change? (click enter)\")\n",
        "os.remove(\"MyNewFileName.txt\") # It's gone now"
      ],
      "execution_count": null,
      "outputs": []
    },
    {
      "cell_type": "markdown",
      "metadata": {
        "id": "YZAqAEtabEAM"
      },
      "source": [
        "The `os` module has a lot more functionality and something you use if you would like to make changes to the computer itself.\n",
        "\n",
        "Also, just a side note, that document isn't coming back anytime soon, it doesn't go to your desktop's recycle bin.\n",
        "\n",
        "### 3.2 Opening complex files\n",
        "\n",
        "I'm sure you've heard of and used Microsoft Excel. While we can't open Microsoft Excel's files directly because it has special encoding, we can convert those documents into a text based files. In this file, each cell is separated by a comma and a carriage return (new line just like `\\n`).\n",
        "\n",
        "We can then use one of the standard libraries to read one of these files and it can even process the comma's and carriage returns and put it into a list for us.\n",
        "\n",
        "To make this easier, we have provided a CSV file which is just a text file named \"example.csv\" with the following contents,\n",
        "\n",
        "```\n",
        "1,5\n",
        "2,8\n",
        "3,2\n",
        "4,4\n",
        "5,4\n",
        "6,6\n",
        "7,2\n",
        "8,3\n",
        "9,4\n",
        "10,5\n",
        "```\n",
        "\n",
        "You can get the file from GitHub or you can create it with the following shell command. Then you can verify the content by double clicking on the file in the file browser.\n",
        "\n"
      ]
    },
    {
      "cell_type": "code",
      "metadata": {
        "id": "SP7SiCEvfGxC"
      },
      "source": [
        "# creates a local example.csv file\n",
        "!echo -e \"1,5\\n2,8\\n3,2\\n4,4\\n5,4\\n6,6\\n7,2\\n8,3\\n9,4\\n10,5\" > example.csv\n"
      ],
      "execution_count": null,
      "outputs": []
    },
    {
      "cell_type": "code",
      "metadata": {
        "id": "NGM8rbsFbEAN"
      },
      "source": [
        "import csv\n",
        "\n",
        "csv_file = open('example.csv', 'r') # Open the file in Python\n",
        "\n",
        "csv_data = csv.reader(csv_file) # Read it as a csv file\n",
        "\n",
        "csv_data_list = list(csv_data) # Turn it into a list\n",
        "\n",
        "print('The whole thing: '+str(csv_data_list)) # With string concatenation and other variables"
      ],
      "execution_count": null,
      "outputs": []
    },
    {
      "cell_type": "code",
      "metadata": {
        "id": "IVANtlQGbEAN"
      },
      "source": [
        "print('Row 1: '+str(csv_data_list[0])) # We need to the other variables into strings"
      ],
      "execution_count": null,
      "outputs": []
    },
    {
      "cell_type": "code",
      "metadata": {
        "id": "Joo8mZd7bEAN"
      },
      "source": [
        "print('Row 1 Column 1: '+str(csv_data_list[0][0])) # Use the str() function to do that"
      ],
      "execution_count": null,
      "outputs": []
    },
    {
      "cell_type": "markdown",
      "metadata": {
        "id": "3LytXWpMbEAN"
      },
      "source": [
        "# 4. Matplotlib\n",
        "\n",
        "The last thing we're going to do today is learning how to use a library called Matplotlib. While this is not part of the standard libraries that always come with Python, we've gone ahead and installed it for you together with the Python interpreter. Matplotlib takes data and plots them. It is very easy to use but allows you to create very advanced plots.\n",
        "\n",
        "Let's take our csv data file from above and use that to create a plot."
      ]
    },
    {
      "cell_type": "code",
      "metadata": {
        "id": "bxYyJh5NbEAO"
      },
      "source": [
        "import matplotlib.pyplot as plt\n",
        "import csv\n",
        "\n",
        "csv_file = open('example.csv', 'r') # Open the file in Python\n",
        "\n",
        "csv_data = csv.reader(csv_file) # Read it as a csv file\n",
        "\n",
        "csv_data_list = list(csv_data) # Turn it into a list\n",
        "\n",
        "# Go through every point in the data\n",
        "for points in csv_data_list:\n",
        "    plt.scatter(points[0], points[1]) # Plot the point\n",
        "    \n",
        "plt.show() # Now show the plot"
      ],
      "execution_count": null,
      "outputs": []
    },
    {
      "cell_type": "markdown",
      "metadata": {
        "id": "aBv6sDg_bEAO"
      },
      "source": [
        "Let's say we wanted to connect those points in the scatter plot, add some other data as well, and label it,"
      ]
    },
    {
      "cell_type": "code",
      "metadata": {
        "id": "STVpXS9UbEAO"
      },
      "source": [
        "import matplotlib.pyplot as plt\n",
        "import csv\n",
        "\n",
        "csv_file = open('example.csv', 'r') # Open the file in Python\n",
        "\n",
        "csv_data = csv.reader(csv_file) # Read it as a csv file\n",
        "\n",
        "csv_data_list = list(csv_data) # Turn it into a list\n",
        "\n",
        "# Now transpose the data\n",
        "# Right now, it's [[1,1], [2,2], [3,3]]\n",
        "# We need it to be [[1,2,3], [1,2,3]]\n",
        "# This will do that for us\n",
        "transposed_data = list(map(list, zip(*csv_data_list)))\n",
        "\n",
        "# Ok, now split those two inner lists to x and y\n",
        "x, y = transposed_data\n",
        "\n",
        "\"\"\"Same thing as\n",
        "x = transposed_data[0]\n",
        "y = transposed_data[1]\n",
        "\"\"\"\n",
        "\n",
        "plt.plot(x,y, label=\"Example.csv File\") # Create the plot from the points\n",
        "\n",
        "plt.plot([2,3,9],[2,5,3], label=\"Other data\") # We can have multiple data sets in one plot\n",
        "\n",
        "plt.xlabel('x axis')\n",
        "plt.ylabel('y axis')\n",
        "plt.title('My Plot Title')\n",
        "plt.legend() # Show a legend with the labels\n",
        "\n",
        "plt.show() # Now show the plot"
      ],
      "execution_count": null,
      "outputs": []
    },
    {
      "cell_type": "markdown",
      "metadata": {
        "id": "KYVZvn_dbEAP"
      },
      "source": [
        "Okay, for this last example, let's create a histogram. We're going to roll two dice and add their numbers. Then we're going to plot our results on a histogram. Let's roll 20,000 times."
      ]
    },
    {
      "cell_type": "code",
      "metadata": {
        "id": "oYhcCicPbEAP"
      },
      "source": [
        "import matplotlib.pyplot as plt\n",
        "import random\n",
        "\n",
        "number_of_rolls = 10000\n",
        "\n",
        "results = []\n",
        "for i in range(number_of_rolls):\n",
        "    # We're rolling two times and adding them together\n",
        "    newValue = random.randint(1,6)+random.randint(1,6)\n",
        "    # We have our two dice added together, add it to the results list\n",
        "    results.append(newValue)\n",
        "\n",
        "# First parameter is the data, second is the number of bins\n",
        "plt.hist(results, 10)\n",
        "\n",
        "# Present our plot\n",
        "plt.show()"
      ],
      "execution_count": null,
      "outputs": []
    },
    {
      "cell_type": "markdown",
      "metadata": {
        "id": "9p28h_ZPbEAP"
      },
      "source": [
        "# Basic Python Completion\n",
        "\n",
        "Okay, if you've made it this far, you actually know quite a bit of Python. If you were able to complete or understand how to complete last week's challenges and can complete this week's challenges, you are ready to start working on your project. First complete this week's challenges and then ask about the next step."
      ]
    }
  ]
}